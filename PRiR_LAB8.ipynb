{
  "nbformat": 4,
  "nbformat_minor": 0,
  "metadata": {
    "colab": {
      "provenance": []
    },
    "kernelspec": {
      "name": "python3",
      "display_name": "Python 3"
    },
    "language_info": {
      "name": "python"
    }
  },
  "cells": [
    {
      "cell_type": "code",
      "source": [
        "!nvcc --version\n",
        "!pip install git+https://github.com/andreinechaev/nvcc4jupyter.git\n",
        "%load_ext nvcc_plugin"
      ],
      "metadata": {
        "colab": {
          "base_uri": "https://localhost:8080/"
        },
        "id": "kKUagT_-KHKS",
        "outputId": "06f5e3b1-f82c-4973-a5b9-1ee9808990ce"
      },
      "execution_count": 2,
      "outputs": [
        {
          "output_type": "stream",
          "name": "stdout",
          "text": [
            "nvcc: NVIDIA (R) Cuda compiler driver\n",
            "Copyright (c) 2005-2021 NVIDIA Corporation\n",
            "Built on Sun_Feb_14_21:12:58_PST_2021\n",
            "Cuda compilation tools, release 11.2, V11.2.152\n",
            "Build cuda_11.2.r11.2/compiler.29618528_0\n",
            "Looking in indexes: https://pypi.org/simple, https://us-python.pkg.dev/colab-wheels/public/simple/\n",
            "Collecting git+https://github.com/andreinechaev/nvcc4jupyter.git\n",
            "  Cloning https://github.com/andreinechaev/nvcc4jupyter.git to /tmp/pip-req-build-pv_q3ub6\n",
            "  Running command git clone -q https://github.com/andreinechaev/nvcc4jupyter.git /tmp/pip-req-build-pv_q3ub6\n",
            "Building wheels for collected packages: NVCCPlugin\n",
            "  Building wheel for NVCCPlugin (setup.py) ... \u001b[?25l\u001b[?25hdone\n",
            "  Created wheel for NVCCPlugin: filename=NVCCPlugin-0.0.2-py3-none-any.whl size=4304 sha256=fefe11ed9a719a2b946b542da67de7c0fea461321eeb1ca7aa7b37430376ca76\n",
            "  Stored in directory: /tmp/pip-ephem-wheel-cache-3093l_08/wheels/f3/08/cc/e2b5b0e1c92df07dbb50a6f024a68ce090f5e7b2316b41756d\n",
            "Successfully built NVCCPlugin\n",
            "Installing collected packages: NVCCPlugin\n",
            "Successfully installed NVCCPlugin-0.0.2\n",
            "created output directory at /content/src\n",
            "Out bin /content/result.out\n"
          ]
        }
      ]
    },
    {
      "cell_type": "code",
      "execution_count": 5,
      "metadata": {
        "id": "f4Gg1bf5_DnS",
        "colab": {
          "base_uri": "https://localhost:8080/"
        },
        "outputId": "b911677e-0b22-4432-f721-8263c5e2775d"
      },
      "outputs": [
        {
          "output_type": "stream",
          "name": "stdout",
          "text": [
            "Time to generate:  0.000011 s \r \n"
          ]
        }
      ],
      "source": [
        "%%cu\n",
        "#include <stdlib.h>\n",
        "#include <math.h>\n",
        "#include <string.h>\n",
        "#include <time.h>\n",
        "#include <cuda.h>\n",
        "#include <stdio.h>\n",
        "\n",
        "#define MAX_ITER 1000\n",
        "#define X_RESN  1920\n",
        "#define Y_RESN  1080\n",
        "\n",
        "__global__ void mandelbrot(int *d_image, int max_iter, int x_resn, int y_resn, float x_offset, float y_offset, float zoom)\n",
        "{\n",
        "    int i = blockIdx.x * blockDim.x + threadIdx.x;\n",
        "    int j = blockIdx.y * blockDim.y + threadIdx.y;\n",
        "    int k = i + j * x_resn;\n",
        "    float x0 = (i - x_resn/2) / (0.5 * zoom * x_resn) + x_offset;\n",
        "    float y0 = (j - y_resn/2) / (0.5 * zoom * y_resn) + y_offset;\n",
        "    float x = 0.0;\n",
        "    float y = 0.0;\n",
        "    int iter = 0;\n",
        "    while (x*x + y*y < 4 && iter < max_iter) {\n",
        "        float xtemp = x*x - y*y + x0;\n",
        "        y = 2*x*y + y0;\n",
        "        x = xtemp;\n",
        "        iter++;\n",
        "    }\n",
        "    d_image[k] = iter;\n",
        "}\n",
        "\n",
        "int main(int argc, char *argv[]) {\n",
        "    int *h_image, *d_image;\n",
        "    int max_iter = MAX_ITER;\n",
        "    int x_resn = X_RESN;\n",
        "    int y_resn = Y_RESN;\n",
        "    float x_offset = 0.0;\n",
        "    float y_offset = 0.0;\n",
        "    float zoom = 1.0;\n",
        "    int i, j, k;\n",
        "    int size = x_resn * y_resn * sizeof(int);\n",
        "    FILE *fp;\n",
        "    char *filename = \"mandelbrot.pam\";\n",
        "    char *comment = \"# \";\n",
        "\n",
        "    // allocate host memory\n",
        "    h_image = (int *) malloc(size);\n",
        "\n",
        "    // allocate device memory\n",
        "    cudaMalloc((void **) &d_image, size);\n",
        "\n",
        "    // setup execution parameters\n",
        "    dim3\n",
        "    threads(16, 16);\n",
        "    dim3\n",
        "    grid(x_resn / threads.x, y_resn / threads.y);\n",
        "\n",
        "    // create and start timer\n",
        "    clock_t start, stop;\n",
        "    start = clock();\n",
        "\n",
        "    // execute the kernel\n",
        "    mandelbrot<<< grid, threads >>>(d_image, max_iter, x_resn, y_resn, x_offset, y_offset, zoom);\n",
        "\n",
        "    // stop and destroy timer\n",
        "    stop = clock();\n",
        "    double timer_seconds = ((double) (stop - start)) / CLOCKS_PER_SEC;\n",
        "    printf(\"Time to generate:  %f s \\r \", timer_seconds);\n",
        "    \n",
        "    // copy result from device to host\n",
        "    cudaMemcpy(h_image, d_image, size, cudaMemcpyDeviceToHost);\n",
        "    \n",
        "    // write result to file\n",
        "    fp = fopen(filename, \"w\");\n",
        "    fprintf(fp, \"P7 %s %d %d %d %d \", comment, x_resn, y_resn, 255, 0);\n",
        "    for (j = 0; j < y_resn; j++) {\n",
        "        for (i = 0; i < x_resn; i++) {\n",
        "            k = i + j * x_resn;\n",
        "            fprintf(fp, \"%c%c%c\", h_image[k] % 256, h_image[k] % 256, h_image[k] % 256);\n",
        "        }\n",
        "    }\n",
        "    fclose(fp);\n",
        "    \n",
        "    // cleanup memory\n",
        "    free(h_image);\n",
        "    cudaFree(d_image);\n",
        "    \n",
        "    return 0;\n",
        "}"
      ]
    }
  ]
}